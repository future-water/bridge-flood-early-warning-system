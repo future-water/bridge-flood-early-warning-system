{
 "cells": [
  {
   "cell_type": "code",
   "execution_count": 1,
   "metadata": {},
   "outputs": [],
   "source": [
    "import pickle\n",
    "import warnings\n",
    "import numpy as np\n",
    "import pandas as pd\n",
    "import matplotlib.pyplot as plt\n",
    "from evaluation_util import sensitivity, load_and_prepare_usgs, calculate_diff, prepare_data_for_plotting\n",
    "warnings.filterwarnings(\"ignore\")"
   ]
  },
  {
   "cell_type": "code",
   "execution_count": 2,
   "metadata": {},
   "outputs": [],
   "source": [
    "number = 11\n",
    "multi_models = [f'short_range_{i}' for i in range(1, number+1)]"
   ]
  },
  {
   "cell_type": "code",
   "execution_count": 3,
   "metadata": {},
   "outputs": [],
   "source": [
    "with open('bridge_gua.pkl', 'rb') as file:\n",
    "    bridge_gua = pickle.load(file)\n",
    "\n",
    "with open('gua_together_raw.pkl', 'rb') as file:\n",
    "    raw = pickle.load(file)\n",
    "\n",
    "with open('gua_together_open.pkl', 'rb') as file:\n",
    "    all_outputs_open = pickle.load(file)\n",
    "\n",
    "all_outputs_da = {}\n",
    "for model_name in multi_models:\n",
    "    with open(f'gua_together_da_usgs_{model_name}.pkl', 'rb') as file:\n",
    "        model_outputs = pickle.load(file)\n",
    "    all_outputs_da[model_name] = model_outputs"
   ]
  },
  {
   "cell_type": "code",
   "execution_count": 4,
   "metadata": {},
   "outputs": [],
   "source": [
    "filtered_bridge = {key: value for key, value in bridge_gua.items() if value['overflow']}"
   ]
  },
  {
   "cell_type": "code",
   "execution_count": 5,
   "metadata": {},
   "outputs": [],
   "source": [
    "GAUGES_USGS = {\n",
    "    # san antonio\n",
    "    \"10840818\":'USGS-08178050',\n",
    "    \"10840824\":'USGS-08178500',\n",
    "    \"10840502\":'USGS-08178565',\n",
    "    \"10840230\":'USGS-08178593',\n",
    "    \"10840232\":'USGS-08178700',\n",
    "    \"10840488\":'USGS-08178800',\n",
    "    \"10834470\":'USGS-0817887350', \n",
    "    \"10833740\":'USGS-08178880',\n",
    "    \"10834916\":'USGS-08178980', \n",
    "    \"10835018\":'USGS-08180586', \n",
    "    \"10836382\":'USGS-08180640', \n",
    "    \"10835982\":'USGS-08180700',\n",
    "    \"10836104\":'USGS-08180800', \n",
    "    \"10835030\":'USGS-08181400', \n",
    "    \"10836388\":'USGS-08181480',\n",
    "    \"10836092\":'USGS-08181500', \n",
    "    \"10840558\":'USGS-08181725',\n",
    "    \"10840572\":'USGS-08181800',\n",
    "    \"3836053\":'USGS-08183200',\n",
    "    \"3838221\":'USGS-08183500', \n",
    "    \"7850579\":'USGS-08183900', \n",
    "    \"7850611\":'USGS-08183978', \n",
    "    \"7850687\":'USGS-08185065', \n",
    "    \"7851629\":'USGS-08185100', \n",
    "    \"7851771\":'USGS-08185500',\n",
    "    \"7852265\":'USGS-08186000',\n",
    "    \"3838999\":'USGS-08186500',\n",
    "    \"3839263\":'USGS-08187500',\n",
    "    \"3839167\":'USGS-08188060', \n",
    "    \"3840125\":'USGS-08188500',\n",
    "    \"3840137\":'USGS-08188570',\n",
    "    #Guadalupe\n",
    "    \"3585678\":\"USGS-08165300\",\n",
    "    \"3585620\":\"USGS-08165500\",\n",
    "    \"3585554\":\"USGS-08166000\",\n",
    "    \"3585626\":\"USGS-08166140\",\n",
    "    \"3585724\":\"USGS-08166200\",\n",
    "    \"3587616\":\"USGS-08166250\",\n",
    "    \"3589508\":\"USGS-08167000\",\n",
    "    \"3589062\":\"USGS-08167200\",\n",
    "    \"3589120\":\"USGS-08167500\",\n",
    "    \"1619595\":\"USGS-08167800\",\n",
    "    \"1619637\":\"USGS-08168000\",\n",
    "    \"1620031\":\"USGS-08168500\",\n",
    "    \"1619663\":\"USGS-08168797\",\n",
    "    \"1619647\":\"USGS-08168932\", \n",
    "    \"1619649\":\"USGS-08169000\",\n",
    "    \"1620877\":\"USGS-08169792\",\n",
    "    \"1622735\":\"USGS-08169845\",\n",
    "    \"1631099\":\"USGS-08170500\",\n",
    "    \"1628253\":\"USGS-08170950\",\n",
    "    \"1628219\":\"USGS-08170990\",\n",
    "    \"1630223\":\"USGS-08171000\",\n",
    "    \"1629555\":\"USGS-08171290\",\n",
    "    \"1631129\":\"USGS-08171350\",\n",
    "    \"1631195\":\"USGS-08171400\",\n",
    "    \"1631387\":\"USGS-08172000\",\n",
    "    \"1631087\":\"USGS-08172400\",\n",
    "    \"1631587\":\"USGS-08173000\",\n",
    "    \"1622713\":\"USGS-08173900\", \n",
    "    \"1620735\":\"USGS-08174200\",\n",
    "    \"1620703\":\"USGS-08174550\",\n",
    "    \"1622763\":\"USGS-08174600\",\n",
    "    \"1623075\":\"USGS-08174700\",\n",
    "    \"1623207\":\"USGS-08175000\",\n",
    "    \"1637437\":\"USGS-08175800\",\n",
    "    \"1639225\":\"USGS-08176500\",\n",
    "    \"1638559\":\"USGS-08176900\",\n",
    "    \"1638907\":\"USGS-08177500\",\n",
    "}"
   ]
  },
  {
   "cell_type": "code",
   "execution_count": 6,
   "metadata": {},
   "outputs": [],
   "source": [
    "date_range = pd.date_range('20230501', '20230502', freq='1H').strftime('%Y%m%d%H')[:-1]"
   ]
  },
  {
   "cell_type": "code",
   "execution_count": 7,
   "metadata": {},
   "outputs": [],
   "source": [
    "usgs, rename_dict = load_and_prepare_usgs('usgs_gages_nudging.csv', GAUGES_USGS)\n",
    "gage_list = list(rename_dict.values())"
   ]
  },
  {
   "cell_type": "code",
   "execution_count": 8,
   "metadata": {},
   "outputs": [],
   "source": [
    "factor = 0.9"
   ]
  },
  {
   "cell_type": "code",
   "execution_count": 9,
   "metadata": {},
   "outputs": [],
   "source": [
    "gage_list = list(rename_dict.values())"
   ]
  },
  {
   "cell_type": "code",
   "execution_count": 10,
   "metadata": {},
   "outputs": [],
   "source": [
    "results = []\n",
    "\n",
    "for site in gage_list:\n",
    "    ensemble_weights_history, overtop_flow, timelagged_das, timelagged_raws, timelagged_opens, crps_das, crps_raws, crps_opens, timelagged_da_probs, timelagged_raw_probs, timelagged_open_probs, brier_raws, brier_das, brier_opens = sensitivity(site, factor, raw, all_outputs_open, all_outputs_da, usgs, date_range, multi_models)\n",
    "    results.append({\n",
    "        'site': site,\n",
    "        'ensemble_weights_history': ensemble_weights_history,\n",
    "        'overtop_flow': overtop_flow,\n",
    "        'timelagged_das': timelagged_das,\n",
    "        'timelagged_raws': timelagged_raws,\n",
    "        'timelagged_opens': timelagged_opens,\n",
    "\n",
    "        'crps_das': crps_das,\n",
    "        'crps_raws': crps_raws,\n",
    "        'crps_opens': crps_opens,\n",
    "\n",
    "        'timelagged_da_probs': timelagged_da_probs,\n",
    "        'timelagged_raw_probs': timelagged_raw_probs,\n",
    "        'timelagged_open_probs': timelagged_open_probs,\n",
    "\n",
    "        'brier_raws': brier_raws,\n",
    "        'brier_das': brier_das,\n",
    "        'brier_opens': brier_opens\n",
    "    })"
   ]
  },
  {
   "cell_type": "code",
   "execution_count": 11,
   "metadata": {},
   "outputs": [],
   "source": [
    "diff_da, diff_da_mean = calculate_diff(results, gage_list, 'crps_das', 'crps_opens')\n",
    "diff_raw, diff_raw_mean = calculate_diff(results, gage_list, 'crps_raws', 'crps_opens')\n",
    "\n",
    "melted_data = prepare_data_for_plotting(diff_da, diff_raw)"
   ]
  },
  {
   "cell_type": "code",
   "execution_count": 12,
   "metadata": {},
   "outputs": [],
   "source": [
    "median_values = melted_data.groupby(['Index', 'Skill Type'])['Skill Value'].median().unstack()\n",
    "mean_values = melted_data.groupby(['Index', 'Skill Type'])['Skill Value'].mean().unstack()"
   ]
  },
  {
   "cell_type": "code",
   "execution_count": null,
   "metadata": {},
   "outputs": [],
   "source": [
    "plt.figure(figsize=(10, 8))\n",
    "skill_types = median_values.columns\n",
    "\n",
    "color_map = {\n",
    "    'DA Skill': plt.cm.tab10.colors[0], \n",
    "    'Raw Skill': plt.cm.tab10.colors[1]\n",
    "}\n",
    "\n",
    "for skill_type in median_values.columns:\n",
    "    for subindex in melted_data['SubIndex'].unique():\n",
    "        individual_values = melted_data[(melted_data['Skill Type'] == skill_type) & (melted_data['SubIndex'] == subindex)]\n",
    "        plt.plot(individual_values['Index'], individual_values['Skill Value'], linestyle=':', color=color_map[skill_type], alpha=0.2)\n",
    "\n",
    "    latex_label = r'$\\text{CRPSS}_{\\text{KF}}$' if skill_type == 'DA Skill' else r'$\\text{CRPSS}_{\\text{NWM}}$'\n",
    "    plt.plot(median_values.index, median_values[skill_type], linestyle='-', marker='o', color=color_map[skill_type], label=f'Median {latex_label}', linewidth=3)\n",
    "    plt.plot(mean_values.index, mean_values[skill_type], linestyle=':', marker='o', color=color_map[skill_type], label=f'Mean {latex_label}', linewidth=3)\n",
    "\n",
    "plt.xticks(melted_data['Index'].unique())\n",
    "plt.xlabel(r'Lead time (hr)')\n",
    "plt.ylabel(r'CRPSS')\n",
    "\n",
    "plt.legend(fontsize=20, loc='best', ncol=2, frameon=False)\n",
    "\n",
    "plt.grid(True, which='both', linestyle='--', linewidth=0.5)\n",
    "plt.ylim(-0.1, 1.01)\n",
    "\n",
    "# Optimize layout\n",
    "plt.tight_layout()\n",
    "plt.show()"
   ]
  }
 ],
 "metadata": {
  "kernelspec": {
   "display_name": "asyncio_env",
   "language": "python",
   "name": "python3"
  },
  "language_info": {
   "codemirror_mode": {
    "name": "ipython",
    "version": 3
   },
   "file_extension": ".py",
   "mimetype": "text/x-python",
   "name": "python",
   "nbconvert_exporter": "python",
   "pygments_lexer": "ipython3",
   "version": "3.11.9"
  }
 },
 "nbformat": 4,
 "nbformat_minor": 2
}
