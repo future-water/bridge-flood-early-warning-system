{
 "cells": [
  {
   "cell_type": "code",
   "execution_count": 1,
   "id": "61e30f85-2165-46fe-978f-221c558328f1",
   "metadata": {},
   "outputs": [],
   "source": [
    "import os\n",
    "import datetime\n",
    "import json\n",
    "import re\n",
    "import copy\n",
    "from scipy.sparse import csr_matrix, lil_matrix, eye, csgraph\n",
    "import numpy as np\n",
    "import pandas as pd\n",
    "import scipy.optimize\n",
    "import scipy.sparse\n",
    "from scipy.stats import norm, pearsonr\n",
    "import matplotlib.pyplot as plt\n",
    "from muskingum import MuskingumCunge, KalmanFilter\n",
    "from muskingum import _ax, _ax_bu, _apply_gain\n",
    "from muskingum import numba_init_inflows, numba_matmat, numba_matmat_par\n",
    "import time\n",
    "from numba import njit\n",
    "import seaborn as sns\n",
    "import geopandas as gpd\n",
    "import matplotlib as mpl\n",
    "from simulation_util import read_csv, load_nwm_data, prepare_inputs, update_model_inputs, save_raw_data, simulate_open, simulate_model_with_callbacks\n",
    "from tqdm import tqdm\n",
    "import asyncio\n",
    "import pickle"
   ]
  },
  {
   "cell_type": "code",
   "execution_count": 2,
   "id": "94b3d932",
   "metadata": {},
   "outputs": [],
   "source": [
    "basepath = '/Users/jeiloh/Desktop/forecasting_overtopping/guadalupe/data'\n",
    "nwm_export = 'export_Guadalupe_2023'\n",
    "nwm_vars = ['qBucket', 'qSfcLatRunoff', 'streamflow']\n",
    "date_list = pd.date_range('20230401', '20230701', freq='h', tz='utc')[:-1]\n",
    "multi_models = [f'short_range_{i}' for i in range(1, 12)]\n",
    "alpha = np.linspace(0, 2, len(multi_models))"
   ]
  },
  {
   "cell_type": "code",
   "execution_count": 3,
   "id": "b66ffad1",
   "metadata": {},
   "outputs": [],
   "source": [
    "streamflow = pd.read_csv(f'{basepath}/{nwm_export}/2023040100/2023040100_short_range_streamflow.csv')\n",
    "runoff = pd.read_csv(f'{basepath}/{nwm_export}/2023040100/2023040100_short_range_qSfcLatRunoff.csv')\n",
    "bucket = pd.read_csv(f'{basepath}/{nwm_export}/2023040100/2023040100_short_range_qBucket.csv')\n",
    "usgs = pd.read_csv('usgs_gages_nudging.csv')"
   ]
  },
  {
   "cell_type": "code",
   "execution_count": 4,
   "id": "4d1f5e4b",
   "metadata": {},
   "outputs": [],
   "source": [
    "streamflow['time'] = pd.to_datetime(streamflow['time'])\n",
    "streamflow = streamflow.set_index('time').tz_localize('UTC')\n",
    "usgs.set_index('datetime', inplace=True)\n",
    "usgs.index = pd.to_datetime(usgs.index).tz_convert('UTC')\n",
    "usgs = usgs[usgs.index.isin(pd.date_range('20230401', '20230801', freq='h', tz='utc'))]\n",
    "\n",
    "inputs = runoff + bucket"
   ]
  },
  {
   "cell_type": "code",
   "execution_count": 5,
   "id": "a406e447",
   "metadata": {},
   "outputs": [],
   "source": [
    "with open('/Users/jeiloh/Desktop/forecasting_overtopping/guadalupe/data/gua_together_cleaned.json') as texas:\n",
    "    d = json.load(texas)"
   ]
  },
  {
   "cell_type": "code",
   "execution_count": 6,
   "id": "a20f584b-8cf0-4efe-8c0b-79358bb04d11",
   "metadata": {},
   "outputs": [],
   "source": [
    "comids = [5256723, 5256725, 5280902, 5293763, 5275764, 9535875, 9535873, 8333624, 8333590, 1077643, \n",
    "          1078881, 1078897, 1477505, 1158941, 1160619, 1160719, 1111369, 1166621, 1142744, 1143298, \n",
    "          1145428, 1113965, 1166607, 1306945, 1269780, 1279648, 1287711, 1264655, 1262905, 1294198, \n",
    "          1262851, 1300456, 1300458, 4133145, 1448010, 1456345, 1456323, 1494050, 1515495, 1523581, \n",
    "          1469612, 1508325, 1468428, 1468426, 1475693, 1475695, 1475697, 1479839, 1523627, 1515213, \n",
    "          1515205, 3123150, 3123710, 13514834, 13494837, 13700659, 14034073, 13681329, 14034081, \n",
    "          14034505, 5544034, 5487027, 5507108, 5521348, 5525867, 5499448, 5499450, 5514792, \n",
    "          5514790, 5523992, 5531600, 5531596, 5559336, 5559442, 5570839, 5579047, 1572614, 1572640, \n",
    "          1576430, 2572780, 2572328, 5588526, 5593582, 5671495, 5635929, 5651989, 5652493, 5714895, \n",
    "          5690898, 5714893, 5715109, 5722371, 5722367, 5656548, 5702833, 5702865, 5712877, 5718726,\n",
    "          5729263, 5746592, 5737005, 5735553, 5746512, 5746014, 5754392, 5757862, 5762659, 5765169,\n",
    "          5771837, 5789878, 5780397, 5791934, 3766328, 9354366, 1609042, 1612200, 1615408, 7847707, \n",
    "          3589578, 1623369, 1623367, 1632017, 1640215, 10840568, 10840560, 10836114, 7852413, 9354358, \n",
    "          9357548, 9351103, 9351055, 3154805, 7872307, 7876612, 10630401, 10624041, 10631455, 942110011, \n",
    "          10648495, 10661028, 10657909, 10648627, 10657911, 10664258, 10671447, 10828988]"
   ]
  },
  {
   "cell_type": "code",
   "execution_count": 20,
   "id": "4f2ad445",
   "metadata": {},
   "outputs": [],
   "source": [
    "GAUGES_USGS = {\n",
    "    # san antonio\n",
    "    \"10840818\":'USGS-08178050',\n",
    "    \"10840824\":'USGS-08178500',\n",
    "    \"10840502\":'USGS-08178565',\n",
    "    \"10840230\":'USGS-08178593',\n",
    "    \"10840232\":'USGS-08178700',\n",
    "    \"10840488\":'USGS-08178800',\n",
    "    \"10834470\":'USGS-0817887350', \n",
    "    \"10833740\":'USGS-08178880',\n",
    "    \"10834916\":'USGS-08178980', \n",
    "    \"10835018\":'USGS-08180586', \n",
    "    \"10836382\":'USGS-08180640', \n",
    "    \"10835982\":'USGS-08180700',\n",
    "    \"10836104\":'USGS-08180800', \n",
    "    \"10835030\":'USGS-08181400', \n",
    "    \"10836388\":'USGS-08181480',\n",
    "    \"10836092\":'USGS-08181500', \n",
    "    \"10840558\":'USGS-08181725',\n",
    "    \"10840572\":'USGS-08181800',\n",
    "    \"3836053\":'USGS-08183200',\n",
    "    \"3838221\":'USGS-08183500', \n",
    "    \"7850579\":'USGS-08183900', \n",
    "    \"7850611\":'USGS-08183978', \n",
    "    \"7850687\":'USGS-08185065', \n",
    "    \"7851629\":'USGS-08185100', \n",
    "    \"7851771\":'USGS-08185500',\n",
    "    \"7852265\":'USGS-08186000',\n",
    "    \"3838999\":'USGS-08186500',\n",
    "    \"3839263\":'USGS-08187500',\n",
    "    \"3839167\":'USGS-08188060', \n",
    "    \"3840125\":'USGS-08188500',\n",
    "    \"3840137\":'USGS-08188570',\n",
    "    #Guadalupe\n",
    "    \"3585678\":\"USGS-08165300\",\n",
    "    \"3585620\":\"USGS-08165500\",\n",
    "    \"3585554\":\"USGS-08166000\",\n",
    "    \"3585626\":\"USGS-08166140\",\n",
    "    \"3585724\":\"USGS-08166200\",\n",
    "    \"3587616\":\"USGS-08166250\",\n",
    "    \"3589508\":\"USGS-08167000\",\n",
    "    \"3589062\":\"USGS-08167200\",\n",
    "    \"3589120\":\"USGS-08167500\",\n",
    "    \"1619595\":\"USGS-08167800\",\n",
    "    \"1619637\":\"USGS-08168000\",\n",
    "    \"1620031\":\"USGS-08168500\",\n",
    "    \"1619663\":\"USGS-08168797\",\n",
    "    \"1619647\":\"USGS-08168932\", \n",
    "    \"1619649\":\"USGS-08169000\",\n",
    "    \"1620877\":\"USGS-08169792\",\n",
    "    \"1622735\":\"USGS-08169845\",\n",
    "    \"1631099\":\"USGS-08170500\",\n",
    "    \"1628253\":\"USGS-08170950\",\n",
    "    \"1628219\":\"USGS-08170990\",\n",
    "    \"1630223\":\"USGS-08171000\",\n",
    "    \"1629555\":\"USGS-08171290\",\n",
    "    \"1631129\":\"USGS-08171350\",\n",
    "    \"1631195\":\"USGS-08171400\",\n",
    "    \"1631387\":\"USGS-08172000\",\n",
    "    \"1631087\":\"USGS-08172400\",\n",
    "    \"1631587\":\"USGS-08173000\",\n",
    "    \"1622713\":\"USGS-08173900\", \n",
    "    \"1620735\":\"USGS-08174200\",\n",
    "    \"1620703\":\"USGS-08174550\",\n",
    "    \"1622763\":\"USGS-08174600\",\n",
    "    \"1623075\":\"USGS-08174700\",\n",
    "    \"1623207\":\"USGS-08175000\",\n",
    "    \"1637437\":\"USGS-08175800\",\n",
    "    \"1639225\":\"USGS-08176500\",\n",
    "    \"1638559\":\"USGS-08176900\",\n",
    "    \"1638907\":\"USGS-08177500\",\n",
    "}\n"
   ]
  },
  {
   "cell_type": "code",
   "execution_count": 8,
   "id": "ec68ce92",
   "metadata": {},
   "outputs": [],
   "source": [
    "rename_dict = {v.split('-')[-1]: k for k, v in GAUGES_USGS.items() if v.split('-')[-1] in usgs.columns}\n",
    "usgs = usgs.rename(columns=rename_dict)\n",
    "usgs_ = [int(key) for key in GAUGES_USGS.keys()]\n",
    "comids = [str(comid) for comid in usgs_]"
   ]
  },
  {
   "cell_type": "code",
   "execution_count": 9,
   "id": "5b14fbb1",
   "metadata": {},
   "outputs": [],
   "source": [
    "link_ids = [i['attributes']['COMID'] for i in d['features']]\n",
    "reach_ids = [str(x) for x in link_ids]\n",
    "site_indices = {idx: reach_ids.index(idx) for idx in sorted(comids) if idx in reach_ids}\n"
   ]
  },
  {
   "cell_type": "code",
   "execution_count": 10,
   "id": "3f13f728",
   "metadata": {},
   "outputs": [],
   "source": [
    "mc = MuskingumCunge(d, json_type='nhd', create_state_space=False, sparse=True, verbose=False)\n",
    "KX = pd.read_csv('KX.csv')\n",
    "K = KX.iloc[0]\n",
    "X = KX.iloc[1]\n",
    "mc.K[:] = K\n",
    "mc.X[:] = X\n",
    "mc.compute_muskingum_coeffs()"
   ]
  },
  {
   "cell_type": "code",
   "execution_count": 11,
   "id": "4f1e942e-efb3-4811-85f6-a8356874ca6f",
   "metadata": {},
   "outputs": [],
   "source": [
    "p_t = inputs\n",
    "p_t.columns = p_t.columns.astype(str)\n",
    "p_t = p_t[mc.reach_ids]\n",
    "streamflow.columns = streamflow.columns.astype(str)\n",
    "streamflow = streamflow[mc.reach_ids]\n",
    "\n",
    "mc.datetime = streamflow.index[0] - pd.to_timedelta('1h')\n",
    "mc.save_state()"
   ]
  },
  {
   "cell_type": "code",
   "execution_count": 12,
   "id": "5382179b",
   "metadata": {},
   "outputs": [],
   "source": [
    "mc.o_t_prev = streamflow.iloc[0][mc.reach_ids].fillna(0.).values\n",
    "mc.o_t_next = streamflow.iloc[0][mc.reach_ids].fillna(0.).values\n",
    "mc.i_t_next = 0 * streamflow.iloc[0][mc.reach_ids].fillna(0.).values\n",
    "np.add.at(mc.i_t_next, mc.endnodes, mc.o_t_next[mc.endnodes])\n",
    "\n",
    "ix = np.asarray(list(site_indices.values()), dtype=int)\n",
    "ix.sort()\n",
    "model_collection = mc.split(ix, p_t, create_state_space=False)\n",
    "model_collection.save_states()\n"
   ]
  },
  {
   "cell_type": "code",
   "execution_count": 13,
   "id": "50410d76",
   "metadata": {},
   "outputs": [
    {
     "name": "stderr",
     "output_type": "stream",
     "text": [
      "Saving raw data: 100%|██████████| 2184/2184 [18:26<00:00,  1.97it/s]\n"
     ]
    }
   ],
   "source": [
    "raw = save_raw_data(date_list, basepath, nwm_export, nwm_vars, mc)"
   ]
  },
  {
   "cell_type": "code",
   "execution_count": 14,
   "id": "e3042831",
   "metadata": {},
   "outputs": [],
   "source": [
    "with open('raw_data.pkl', 'wb') as file:\n",
    "    pickle.dump(raw, file)"
   ]
  },
  {
   "cell_type": "code",
   "execution_count": 15,
   "id": "d9e39a68",
   "metadata": {},
   "outputs": [
    {
     "name": "stderr",
     "output_type": "stream",
     "text": [
      "Simulating open model: 100%|██████████| 2184/2184 [19:14<00:00,  1.89it/s]\n"
     ]
    }
   ],
   "source": [
    "all_outputs_open = await simulate_open(date_list, basepath, nwm_export, nwm_vars, mc, model_collection)"
   ]
  },
  {
   "cell_type": "code",
   "execution_count": 16,
   "id": "e72fef71",
   "metadata": {},
   "outputs": [],
   "source": [
    "with open('open_data.pkl', 'wb') as file:\n",
    "    pickle.dump(all_outputs_open, file)"
   ]
  },
  {
   "cell_type": "code",
   "execution_count": 13,
   "id": "47cba634",
   "metadata": {},
   "outputs": [],
   "source": [
    "multi_model_collection_da = {}\n",
    "for model in multi_models:\n",
    "    multi_model_collection_da[model] = copy.deepcopy(model_collection)"
   ]
  },
  {
   "cell_type": "code",
   "execution_count": 14,
   "id": "59cf8b97",
   "metadata": {},
   "outputs": [],
   "source": [
    "for model_name in multi_models:\n",
    "    for key, model in multi_model_collection_da[model_name].models.items():\n",
    "        model_sites = [reach_id for reach_id in model.reach_ids if reach_id in usgs.columns]\n",
    "        if model_sites:\n",
    "            measurements = usgs[[reach_id for reach_id in model.reach_ids if reach_id in usgs.columns]]\n",
    "            Q_cov = 2 * np.eye(model.n)\n",
    "            R_cov = 1e-2 * np.eye(measurements.shape[1])\n",
    "            kf = KalmanFilter(model, measurements, Q_cov, R_cov)\n",
    "            if not hasattr(model, 'callbacks'):\n",
    "                model.callbacks = {}\n",
    "            model.callbacks['kf'] = kf\n",
    "            assert model.o_t_next[kf.s].size == kf.measurements.columns.size"
   ]
  },
  {
   "cell_type": "code",
   "execution_count": 15,
   "id": "18e28e12",
   "metadata": {},
   "outputs": [
    {
     "name": "stdout",
     "output_type": "stream",
     "text": [
      "Simulating model: short_range_1\n"
     ]
    },
    {
     "name": "stderr",
     "output_type": "stream",
     "text": [
      "Simulating model short_range_1:   0%|          | 0/2184 [00:00<?, ?it/s]OMP: Info #276: omp_set_nested routine deprecated, please use omp_set_max_active_levels instead.\n",
      "Simulating model short_range_1: 100%|██████████| 2184/2184 [25:08<00:00,  1.45it/s]\n"
     ]
    },
    {
     "name": "stdout",
     "output_type": "stream",
     "text": [
      "Simulating model: short_range_2\n"
     ]
    },
    {
     "name": "stderr",
     "output_type": "stream",
     "text": [
      "Simulating model short_range_2: 100%|██████████| 2184/2184 [25:13<00:00,  1.44it/s]\n"
     ]
    },
    {
     "name": "stdout",
     "output_type": "stream",
     "text": [
      "Simulating model: short_range_3\n"
     ]
    },
    {
     "name": "stderr",
     "output_type": "stream",
     "text": [
      "Simulating model short_range_3: 100%|██████████| 2184/2184 [24:29<00:00,  1.49it/s]\n"
     ]
    },
    {
     "name": "stdout",
     "output_type": "stream",
     "text": [
      "Simulating model: short_range_4\n"
     ]
    },
    {
     "name": "stderr",
     "output_type": "stream",
     "text": [
      "Simulating model short_range_4: 100%|██████████| 2184/2184 [23:56<00:00,  1.52it/s]\n"
     ]
    },
    {
     "name": "stdout",
     "output_type": "stream",
     "text": [
      "Simulating model: short_range_5\n"
     ]
    },
    {
     "name": "stderr",
     "output_type": "stream",
     "text": [
      "Simulating model short_range_5: 100%|██████████| 2184/2184 [25:33<00:00,  1.42it/s]\n"
     ]
    },
    {
     "name": "stdout",
     "output_type": "stream",
     "text": [
      "Simulating model: short_range_6\n"
     ]
    },
    {
     "name": "stderr",
     "output_type": "stream",
     "text": [
      "Simulating model short_range_6: 100%|██████████| 2184/2184 [26:32<00:00,  1.37it/s]\n"
     ]
    },
    {
     "name": "stdout",
     "output_type": "stream",
     "text": [
      "Simulating model: short_range_7\n"
     ]
    },
    {
     "name": "stderr",
     "output_type": "stream",
     "text": [
      "Simulating model short_range_7: 100%|██████████| 2184/2184 [25:52<00:00,  1.41it/s]\n"
     ]
    },
    {
     "name": "stdout",
     "output_type": "stream",
     "text": [
      "Simulating model: short_range_8\n"
     ]
    },
    {
     "name": "stderr",
     "output_type": "stream",
     "text": [
      "Simulating model short_range_8: 100%|██████████| 2184/2184 [26:08<00:00,  1.39it/s]\n"
     ]
    },
    {
     "name": "stdout",
     "output_type": "stream",
     "text": [
      "Simulating model: short_range_9\n"
     ]
    },
    {
     "name": "stderr",
     "output_type": "stream",
     "text": [
      "Simulating model short_range_9: 100%|██████████| 2184/2184 [25:47<00:00,  1.41it/s]\n"
     ]
    },
    {
     "name": "stdout",
     "output_type": "stream",
     "text": [
      "Simulating model: short_range_10\n"
     ]
    },
    {
     "name": "stderr",
     "output_type": "stream",
     "text": [
      "Simulating model short_range_10: 100%|██████████| 2184/2184 [25:38<00:00,  1.42it/s]\n"
     ]
    },
    {
     "name": "stdout",
     "output_type": "stream",
     "text": [
      "Simulating model: short_range_11\n"
     ]
    },
    {
     "name": "stderr",
     "output_type": "stream",
     "text": [
      "Simulating model short_range_11: 100%|██████████| 2184/2184 [25:30<00:00,  1.43it/s] \n"
     ]
    }
   ],
   "source": [
    "all_model_outputs = {}\n",
    "for i, model_name in enumerate(multi_models):\n",
    "    print(f\"Simulating model: {model_name}\")\n",
    "    alpha_value = alpha[i]\n",
    "    outputs = await simulate_model_with_callbacks(\n",
    "        date_list=date_list,\n",
    "        basepath=basepath,\n",
    "        nwm_export=nwm_export,\n",
    "        nwm_vars=nwm_vars,\n",
    "        model_collection_da=multi_model_collection_da,\n",
    "        model_name=model_name,\n",
    "        alpha=alpha_value,\n",
    "        usgs=usgs\n",
    "    )\n",
    "    all_model_outputs[model_name] = outputs\n",
    "    with open(f'{model_name}_outputs.pkl', 'wb') as file:\n",
    "        pickle.dump(all_model_outputs[model_name], file)"
   ]
  }
 ],
 "metadata": {
  "kernelspec": {
   "display_name": "asyncio_env",
   "language": "python",
   "name": "python3"
  },
  "language_info": {
   "codemirror_mode": {
    "name": "ipython",
    "version": 3
   },
   "file_extension": ".py",
   "mimetype": "text/x-python",
   "name": "python",
   "nbconvert_exporter": "python",
   "pygments_lexer": "ipython3",
   "version": "3.11.9"
  }
 },
 "nbformat": 4,
 "nbformat_minor": 5
}
